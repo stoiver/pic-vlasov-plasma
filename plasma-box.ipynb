{
  "nbformat": 4,
  "nbformat_minor": 0,
  "metadata": {
    "colab": {
      "name": "Plasma box.ipynb",
      "version": "0.3.2",
      "provenance": [],
      "include_colab_link": true
    },
    "language_info": {
      "codemirror_mode": {
        "name": "ipython",
        "version": 3
      },
      "file_extension": ".py",
      "mimetype": "text/x-python",
      "name": "python",
      "nbconvert_exporter": "python",
      "pygments_lexer": "ipython3",
      "version": "3.7.3"
    },
    "kernelspec": {
      "display_name": "Python 3",
      "language": "python",
      "name": "python3"
    }
  },
  "cells": [
    {
      "cell_type": "markdown",
      "metadata": {
        "id": "view-in-github",
        "colab_type": "text"
      },
      "source": [
        "<a href=\"https://colab.research.google.com/github/stoiver/pic-vlasov-plasma/blob/master/plasma-box.ipynb\" target=\"_parent\"><img src=\"https://colab.research.google.com/assets/colab-badge.svg\" alt=\"Open In Colab\"/></a>"
      ]
    },
    {
      "cell_type": "code",
      "metadata": {
        "id": "nr_ucBAHHcA0",
        "colab_type": "code",
        "colab": {}
      },
      "source": [
        "import os\n",
        "os.chdir('/content')\n",
        "!git clone https://github.com/stoiver/pic-vlasov-plasma.git\n",
        "cd pic-vlasov-plasma/"
      ],
      "execution_count": 0,
      "outputs": []
    },
    {
      "cell_type": "code",
      "metadata": {
        "id": "drRwgeIGHTml",
        "colab_type": "code",
        "colab": {}
      },
      "source": [
        "%matplotlib inline\n",
        "\n",
        "import matplotlib\n",
        "import numpy as np\n",
        "import matplotlib.pyplot as plt\n",
        "import matplotlib.animation as anim\n",
        "from plasma_box import Plasma"
      ],
      "execution_count": 0,
      "outputs": []
    },
    {
      "cell_type": "code",
      "metadata": {
        "id": "GUpif4DiHTnB",
        "colab_type": "code",
        "colab": {}
      },
      "source": [
        "npart=10\n",
        "plasma_temperature=5.\n",
        "dt=1.e-2\n",
        "tfin=2.\n",
        "\n",
        "plas=Plasma(npart,temperature=plasma_temperature,electron_mass_ratio=1./5.,rtol=1.e-5)\n",
        "\n",
        "plt.rcParams.update({'font.size': 16})\n",
        "fig,(axp,axr) = plt.subplots(1,2,figsize=(16,8))\n",
        "fig.subplots_adjust(left=0.05, bottom=0.08, right=0.99, top=0.99, wspace=None, hspace=None)\n",
        "# plasma box\n",
        "axp.set_xlim(0, 1)\n",
        "axp.set_ylim(0, 1)\n",
        "axp.set_aspect('equal', adjustable='box')\n",
        "axp.set_xlabel('x')\n",
        "axp.set_ylabel('y')\n",
        "\n",
        "# energy recording\n",
        "axr.set_xlim(0,tfin)\n",
        "axr.set_autoscale_on\n",
        "axr.set_xlabel('t')\n",
        "axr.set_ylabel('energy')\n",
        "axr.grid()\n",
        "\n",
        "elec, = axp.plot([],[],'.b',markersize=10)\n",
        "ions, = axp.plot([],[],'.r',markersize=20)\n",
        "kin,  = axr.plot([],[],'-r',label='kinetic')\n",
        "pot,  = axr.plot([],[],'-b',label='potential')\n",
        "erg,  = axr.plot([],[],'-k',label='total')\n",
        "\n",
        "axr.legend()\n",
        "\n",
        "def init():\n",
        "    elec.set_data([],[])\n",
        "    ions.set_data([],[])\n",
        "    kin.set_data([],[])\n",
        "    pot.set_data([],[])\n",
        "    erg.set_data([],[])\n",
        "    \n",
        "    return elec,ions,kin,pot,erg\n",
        "\n",
        "def animate(i):\n",
        "    global dt, axp, axr, fig, plas\n",
        "    \n",
        "    plas.push(dt)\n",
        "        \n",
        "    x,y=plas.get_electrons()\n",
        "    elec.set_data(x,y)\n",
        "    x,y=plas.get_ions()\n",
        "    ions.set_data(x,y)\n",
        "  \n",
        "    erg.set_xdata(np.append(erg.get_xdata(),plas.t))\n",
        "    erg.set_ydata(np.append(erg.get_ydata(),plas.toterg()-plas.T0))\n",
        "    \n",
        "    kin.set_xdata(np.append(kin.get_xdata(),plas.t))\n",
        "    kin.set_ydata(np.append(kin.get_ydata(),plas.kinerg()-plas.K0))\n",
        "    \n",
        "    pot.set_xdata(np.append(pot.get_xdata(),plas.t))\n",
        "    pot.set_ydata(np.append(pot.get_ydata(),plas.poterg()-plas.V0))\n",
        "             \n",
        "    axr.relim()\n",
        "    axr.autoscale_view()\n",
        "\n",
        "    return elec,ions,kin,pot,erg\n",
        "\n",
        "ani = anim.FuncAnimation(fig,animate,frames=int(tfin/dt),interval=10,blit=True,init_func=init)\n",
        "\n",
        "ani.save('plasma_box.mp4',fps=24,extra_args=['-vcodec','libx264'])\n",
        "    \n",
        "plt.show()"
      ],
      "execution_count": 0,
      "outputs": []
    },
    {
      "cell_type": "code",
      "metadata": {
        "id": "3dYLQiSRHTnl",
        "colab_type": "code",
        "colab": {}
      },
      "source": [
        ""
      ],
      "execution_count": 0,
      "outputs": []
    },
    {
      "cell_type": "code",
      "metadata": {
        "id": "JWG25rWsHTn1",
        "colab_type": "code",
        "colab": {}
      },
      "source": [
        ""
      ],
      "execution_count": 0,
      "outputs": []
    },
    {
      "cell_type": "code",
      "metadata": {
        "id": "ntr8JxReHTog",
        "colab_type": "code",
        "colab": {}
      },
      "source": [
        ""
      ],
      "execution_count": 0,
      "outputs": []
    }
  ]
}